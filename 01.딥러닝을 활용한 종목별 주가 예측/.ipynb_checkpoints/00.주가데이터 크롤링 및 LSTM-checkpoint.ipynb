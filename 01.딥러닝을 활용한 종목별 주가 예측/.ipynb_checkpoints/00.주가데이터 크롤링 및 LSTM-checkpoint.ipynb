{
 "cells": [
  {
   "cell_type": "markdown",
   "id": "banner-rolling",
   "metadata": {
    "toc": true
   },
   "source": [
    "<h1>Table of Contents<span class=\"tocSkip\"></span></h1>\n",
    "<div class=\"toc\"><ul class=\"toc-item\"><li><span><a href=\"#1.-야후-파이낸스로-주가-구하기\" data-toc-modified-id=\"1.-야후-파이낸스로-주가-구하기-1\">1. 야후 파이낸스로 주가 구하기</a></span></li><li><span><a href=\"#2.-MinMaxScaler-함수-적용\" data-toc-modified-id=\"2.-MinMaxScaler-함수-적용-2\">2. MinMaxScaler 함수 적용</a></span></li></ul></div>"
   ]
  },
  {
   "cell_type": "markdown",
   "id": "prerequisite-covering",
   "metadata": {},
   "source": [
    "# 1. 야후 파이낸스로 주가 구하기"
   ]
  },
  {
   "cell_type": "code",
   "execution_count": 7,
   "id": "confused-patio",
   "metadata": {},
   "outputs": [],
   "source": [
    "import numpy as np\n",
    "import pandas as pd\n",
    "import matplotlib.pyplot as plt\n",
    "from pandas_datareader import data as pdr\n",
    "import yfinance as yf\n",
    "import tensorflow as tf\n",
    "from tensorflow.keras import Sequential\n",
    "from tensorflow.keras.layers import Dense, LSTM, Dropout"
   ]
  },
  {
   "cell_type": "code",
   "execution_count": 9,
   "id": "relevant-premiere",
   "metadata": {},
   "outputs": [],
   "source": [
    "def StockData(code, date):\n",
    "    yf.pdr_override()\n",
    "    df = pdr.get_data_yahoo(f'{code}.KS', start=f'{date}')\n",
    "    df = df[['Open','High','Low','Volume','Close']]\n",
    "    return df"
   ]
  },
  {
   "cell_type": "code",
   "execution_count": 18,
   "id": "distinguished-humanity",
   "metadata": {},
   "outputs": [
    {
     "name": "stdout",
     "output_type": "stream",
     "text": [
      "[*********************100%***********************]  1 of 1 completed\n"
     ]
    },
    {
     "data": {
      "text/html": [
       "<div>\n",
       "<style scoped>\n",
       "    .dataframe tbody tr th:only-of-type {\n",
       "        vertical-align: middle;\n",
       "    }\n",
       "\n",
       "    .dataframe tbody tr th {\n",
       "        vertical-align: top;\n",
       "    }\n",
       "\n",
       "    .dataframe thead th {\n",
       "        text-align: right;\n",
       "    }\n",
       "</style>\n",
       "<table border=\"1\" class=\"dataframe\">\n",
       "  <thead>\n",
       "    <tr style=\"text-align: right;\">\n",
       "      <th></th>\n",
       "      <th>Open</th>\n",
       "      <th>High</th>\n",
       "      <th>Low</th>\n",
       "      <th>Volume</th>\n",
       "      <th>Close</th>\n",
       "    </tr>\n",
       "    <tr>\n",
       "      <th>Date</th>\n",
       "      <th></th>\n",
       "      <th></th>\n",
       "      <th></th>\n",
       "      <th></th>\n",
       "      <th></th>\n",
       "    </tr>\n",
       "  </thead>\n",
       "  <tbody>\n",
       "    <tr>\n",
       "      <th>2019-01-02</th>\n",
       "      <td>39400.0</td>\n",
       "      <td>39400.0</td>\n",
       "      <td>38550.0</td>\n",
       "      <td>7847664</td>\n",
       "      <td>38750.0</td>\n",
       "    </tr>\n",
       "    <tr>\n",
       "      <th>2019-01-03</th>\n",
       "      <td>38300.0</td>\n",
       "      <td>38550.0</td>\n",
       "      <td>37450.0</td>\n",
       "      <td>12471493</td>\n",
       "      <td>37600.0</td>\n",
       "    </tr>\n",
       "    <tr>\n",
       "      <th>2019-01-04</th>\n",
       "      <td>37450.0</td>\n",
       "      <td>37600.0</td>\n",
       "      <td>36850.0</td>\n",
       "      <td>14108958</td>\n",
       "      <td>37450.0</td>\n",
       "    </tr>\n",
       "    <tr>\n",
       "      <th>2019-01-07</th>\n",
       "      <td>38000.0</td>\n",
       "      <td>38900.0</td>\n",
       "      <td>37800.0</td>\n",
       "      <td>12748997</td>\n",
       "      <td>38750.0</td>\n",
       "    </tr>\n",
       "    <tr>\n",
       "      <th>2019-01-08</th>\n",
       "      <td>38000.0</td>\n",
       "      <td>39200.0</td>\n",
       "      <td>37950.0</td>\n",
       "      <td>12756554</td>\n",
       "      <td>38100.0</td>\n",
       "    </tr>\n",
       "    <tr>\n",
       "      <th>...</th>\n",
       "      <td>...</td>\n",
       "      <td>...</td>\n",
       "      <td>...</td>\n",
       "      <td>...</td>\n",
       "      <td>...</td>\n",
       "    </tr>\n",
       "    <tr>\n",
       "      <th>2021-01-27</th>\n",
       "      <td>86600.0</td>\n",
       "      <td>87700.0</td>\n",
       "      <td>85600.0</td>\n",
       "      <td>26423070</td>\n",
       "      <td>85600.0</td>\n",
       "    </tr>\n",
       "    <tr>\n",
       "      <th>2021-01-28</th>\n",
       "      <td>83200.0</td>\n",
       "      <td>85600.0</td>\n",
       "      <td>83200.0</td>\n",
       "      <td>31859808</td>\n",
       "      <td>83700.0</td>\n",
       "    </tr>\n",
       "    <tr>\n",
       "      <th>2021-01-29</th>\n",
       "      <td>84500.0</td>\n",
       "      <td>85000.0</td>\n",
       "      <td>82000.0</td>\n",
       "      <td>39615978</td>\n",
       "      <td>82000.0</td>\n",
       "    </tr>\n",
       "    <tr>\n",
       "      <th>2021-02-01</th>\n",
       "      <td>81700.0</td>\n",
       "      <td>83400.0</td>\n",
       "      <td>81000.0</td>\n",
       "      <td>28046832</td>\n",
       "      <td>83000.0</td>\n",
       "    </tr>\n",
       "    <tr>\n",
       "      <th>2021-02-02</th>\n",
       "      <td>84100.0</td>\n",
       "      <td>86400.0</td>\n",
       "      <td>83700.0</td>\n",
       "      <td>25948191</td>\n",
       "      <td>84400.0</td>\n",
       "    </tr>\n",
       "  </tbody>\n",
       "</table>\n",
       "<p>515 rows × 5 columns</p>\n",
       "</div>"
      ],
      "text/plain": [
       "               Open     High      Low    Volume    Close\n",
       "Date                                                    \n",
       "2019-01-02  39400.0  39400.0  38550.0   7847664  38750.0\n",
       "2019-01-03  38300.0  38550.0  37450.0  12471493  37600.0\n",
       "2019-01-04  37450.0  37600.0  36850.0  14108958  37450.0\n",
       "2019-01-07  38000.0  38900.0  37800.0  12748997  38750.0\n",
       "2019-01-08  38000.0  39200.0  37950.0  12756554  38100.0\n",
       "...             ...      ...      ...       ...      ...\n",
       "2021-01-27  86600.0  87700.0  85600.0  26423070  85600.0\n",
       "2021-01-28  83200.0  85600.0  83200.0  31859808  83700.0\n",
       "2021-01-29  84500.0  85000.0  82000.0  39615978  82000.0\n",
       "2021-02-01  81700.0  83400.0  81000.0  28046832  83000.0\n",
       "2021-02-02  84100.0  86400.0  83700.0  25948191  84400.0\n",
       "\n",
       "[515 rows x 5 columns]"
      ]
     },
     "execution_count": 18,
     "metadata": {},
     "output_type": "execute_result"
    }
   ],
   "source": [
    "df = StockData('005930', '2019-01-01')     # 삼성전자\n",
    "df"
   ]
  },
  {
   "cell_type": "markdown",
   "id": "available-vertex",
   "metadata": {},
   "source": [
    "# 2. MinMaxScaler 함수 적용\n",
    "\n",
    "계산 시간 단축을 위해 OHLVC 데이터를 0 ~1 사이의 값으로 변환"
   ]
  },
  {
   "cell_type": "code",
   "execution_count": 12,
   "id": "signal-gates",
   "metadata": {},
   "outputs": [],
   "source": [
    "def MinMaxScaler(data):\n",
    "    numerator = data - np.min(data, 0)\n",
    "    denominator = np.max(data, 0) - np.min(data, 0)\n",
    "    return numerator / (denominator + 1e-7)     # 0으로 나누기 에러 방지"
   ]
  },
  {
   "cell_type": "code",
   "execution_count": 13,
   "id": "durable-animal",
   "metadata": {},
   "outputs": [],
   "source": [
    "df_x = MinMaxScaler(df)\n",
    "df_y = df_x[['Close']]\n",
    "\n",
    "x = df_x.values.tolist()\n",
    "y = df_y.values.tolist()"
   ]
  },
  {
   "cell_type": "code",
   "execution_count": 14,
   "id": "flying-archive",
   "metadata": {},
   "outputs": [
    {
     "name": "stdout",
     "output_type": "stream",
     "text": [
      "<class 'pandas.core.frame.DataFrame'>\n",
      "DatetimeIndex: 515 entries, 2019-01-02 to 2021-02-02\n",
      "Data columns (total 5 columns):\n",
      " #   Column  Non-Null Count  Dtype  \n",
      "---  ------  --------------  -----  \n",
      " 0   Open    515 non-null    float64\n",
      " 1   High    515 non-null    float64\n",
      " 2   Low     515 non-null    float64\n",
      " 3   Volume  515 non-null    float64\n",
      " 4   Close   515 non-null    float64\n",
      "dtypes: float64(5)\n",
      "memory usage: 24.1 KB\n"
     ]
    }
   ],
   "source": [
    "df_x.info()"
   ]
  },
  {
   "cell_type": "code",
   "execution_count": 15,
   "id": "noble-karen",
   "metadata": {},
   "outputs": [
    {
     "name": "stdout",
     "output_type": "stream",
     "text": [
      "<class 'pandas.core.frame.DataFrame'>\n",
      "DatetimeIndex: 515 entries, 2019-01-02 to 2021-02-02\n",
      "Data columns (total 1 columns):\n",
      " #   Column  Non-Null Count  Dtype  \n",
      "---  ------  --------------  -----  \n",
      " 0   Close   515 non-null    float64\n",
      "dtypes: float64(1)\n",
      "memory usage: 8.0 KB\n"
     ]
    }
   ],
   "source": [
    "df_y.info()"
   ]
  },
  {
   "cell_type": "code",
   "execution_count": 16,
   "id": "biblical-brick",
   "metadata": {},
   "outputs": [
    {
     "data": {
      "text/plain": [
       "[0.8826868495725966,\n",
       " 0.8243243243229319,\n",
       " 0.889838556503533,\n",
       " 0.2873357267687234,\n",
       " 0.8767507002784748]"
      ]
     },
     "execution_count": 16,
     "metadata": {},
     "output_type": "execute_result"
    }
   ],
   "source": [
    "x[-1]"
   ]
  },
  {
   "cell_type": "code",
   "execution_count": 17,
   "id": "trained-sherman",
   "metadata": {},
   "outputs": [
    {
     "data": {
      "text/plain": [
       "[0.8767507002784748]"
      ]
     },
     "execution_count": 17,
     "metadata": {},
     "output_type": "execute_result"
    }
   ],
   "source": [
    "y[-1]"
   ]
  },
  {
   "cell_type": "code",
   "execution_count": null,
   "id": "welsh-insight",
   "metadata": {},
   "outputs": [],
   "source": []
  }
 ],
 "metadata": {
  "kernelspec": {
   "display_name": "[Tensorflow_37_env]",
   "language": "python",
   "name": "tensor_37_env"
  },
  "language_info": {
   "codemirror_mode": {
    "name": "ipython",
    "version": 3
   },
   "file_extension": ".py",
   "mimetype": "text/x-python",
   "name": "python",
   "nbconvert_exporter": "python",
   "pygments_lexer": "ipython3",
   "version": "3.7.9"
  },
  "toc": {
   "base_numbering": 1,
   "nav_menu": {},
   "number_sections": false,
   "sideBar": false,
   "skip_h1_title": false,
   "title_cell": "Table of Contents",
   "title_sidebar": "Contents",
   "toc_cell": true,
   "toc_position": {},
   "toc_section_display": true,
   "toc_window_display": false
  }
 },
 "nbformat": 4,
 "nbformat_minor": 5
}
